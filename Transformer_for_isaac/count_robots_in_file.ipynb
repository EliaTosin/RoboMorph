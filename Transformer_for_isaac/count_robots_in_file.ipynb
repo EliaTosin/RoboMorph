{
 "cells": [
  {
   "cell_type": "code",
   "execution_count": 13,
   "metadata": {},
   "outputs": [
    {
     "name": "stdout",
     "output_type": "stream",
     "text": [
      "Total samples: 7103235\n"
     ]
    }
   ],
   "source": [
    "import re\n",
    "\n",
    "# Function to extract sample numbers from the training_ds_lists.txt\n",
    "\n",
    "def extract_samples(filename):\n",
    "    match = re.search(r\"_envs_(\\d+)_steps\", filename)\n",
    "    if match:\n",
    "        return int(match.group(1))\n",
    "    return 0\n",
    "\n",
    "# Read the content of the file\n",
    "file_path = 'training_ds_big_ft4_FC_list.txt'  # Replace with the actual file path\n",
    "with open(file_path, 'r') as file:\n",
    "    lines = file.readlines()\n",
    "\n",
    "# Sum up the sample numbers\n",
    "total_samples = sum(extract_samples(line) for line in lines)\n",
    "\n",
    "# Print the result\n",
    "print(f\"Total samples: {total_samples}\")"
   ]
  }
 ],
 "metadata": {
  "kernelspec": {
   "display_name": "new_transformers",
   "language": "python",
   "name": "python3"
  },
  "language_info": {
   "codemirror_mode": {
    "name": "ipython",
    "version": 3
   },
   "file_extension": ".py",
   "mimetype": "text/x-python",
   "name": "python",
   "nbconvert_exporter": "python",
   "pygments_lexer": "ipython3",
   "version": "3.8.18"
  }
 },
 "nbformat": 4,
 "nbformat_minor": 2
}
