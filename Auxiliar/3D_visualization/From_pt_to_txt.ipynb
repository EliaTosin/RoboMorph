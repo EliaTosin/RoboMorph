{
 "cells": [
  {
   "cell_type": "markdown",
   "metadata": {},
   "source": [
    "This script allow to export from pt file in format (1000,num_envs,dofs)\n",
    "to a single txt trajectory, executable on ROS (Rviz) and on the pysical one."
   ]
  },
  {
   "cell_type": "code",
   "execution_count": 10,
   "metadata": {},
   "outputs": [],
   "source": [
    "import torch\n",
    "import matplotlib.pyplot as plt\n",
    "\n",
    "no_cuda = False\n",
    "use_cuda = not no_cuda and torch.cuda.is_available()\n",
    "device_name  = \"cuda:0\" if use_cuda else \"cpu\"\n",
    "device = torch.device(device_name)\n",
    "\n",
    "@ torch.no_grad()\n",
    "def loading(loaded):\n",
    "    control_action_extracted = loaded['control_action']\n",
    "    position_extracted = loaded['position']\n",
    "    \n",
    "    try:\n",
    "        target_extracted = loaded['target']\n",
    "        target = target_extracted\n",
    "        position = position_extracted\n",
    "        control_action = control_action_extracted\n",
    "\n",
    "    except KeyError:\n",
    "        # print(\"target not found\")\n",
    "        target = []\n",
    "        position = position_extracted\n",
    "        control_action = control_action_extracted\n",
    "    \n",
    "    return control_action,position,target"
   ]
  },
  {
   "cell_type": "code",
   "execution_count": 14,
   "metadata": {},
   "outputs": [],
   "source": [
    "import os\n",
    "\n",
    "relative_folder = f\"./curves_from_isaac/\"\n",
    "tensors_path = os.path.abspath(relative_folder)\n",
    "all_files = os.listdir(tensors_path)\n",
    "output_folder = f\"./output_txt/\"\n",
    "\n",
    "selected_robots_indices = [16,22]"
   ]
  },
  {
   "cell_type": "code",
   "execution_count": null,
   "metadata": {},
   "outputs": [],
   "source": [
    "# In alternative:\n",
    "# relative_folder = \"./\"\n",
    "# output_folder = \"./\"\n",
    "# all_files = \"name_of_file.pt\""
   ]
  },
  {
   "cell_type": "code",
   "execution_count": 16,
   "metadata": {},
   "outputs": [
    {
     "name": "stdout",
     "output_type": "stream",
     "text": [
      "./curves_from_isaac/FC_ph4.pt\n",
      "./curves_from_isaac/FC_ph1.pt\n",
      "./curves_from_isaac/VS_ph1.pt\n",
      "./curves_from_isaac/VS_ph5.pt\n",
      "./curves_from_isaac/FC_ph3.pt\n",
      "./curves_from_isaac/VS_ph3.pt\n",
      "./curves_from_isaac/MS3.pt\n",
      "./curves_from_isaac/FC_ph2.pt\n",
      "./curves_from_isaac/VS_ph4.pt\n",
      "./curves_from_isaac/VS_ph2.pt\n",
      "./curves_from_isaac/VS_ph6.pt\n",
      "./curves_from_isaac/MS1.pt\n",
      "./curves_from_isaac/MS2.pt\n"
     ]
    }
   ],
   "source": [
    "for i in range(len(all_files)):\n",
    "    name_of_test_file = f'{relative_folder}{all_files[i][:-3]}.pt'\n",
    "    print(name_of_test_file)\n",
    "\n",
    "    test = torch.load(name_of_test_file,map_location=device) #\n",
    "\n",
    "    control,position,target = loading(test)\n",
    "    # Assuming pos_vertical_spiral is your tensor\n",
    "    # Extract the first 7 coordinates for all 1000 steps\n",
    "    selected_steps = position[:, :, :7]\n",
    "\n",
    "    # Iterate over the selected robots\n",
    "    for robot_index in selected_robots_indices:\n",
    "        # Extract the data for the current robot\n",
    "        robot_data = selected_steps[:, robot_index, :]\n",
    "        \n",
    "        # Convert the tensor data to a list\n",
    "        robot_data_list = robot_data.tolist()\n",
    "        \n",
    "        # Write the data to a text file\n",
    "        filename = f\"{output_folder}robot_{robot_index}_data_{all_files[i][:-3]}.txt\"\n",
    "        with open(filename, \"w\") as file:\n",
    "            for step_data in robot_data_list:\n",
    "                # Write each step's data as a line in the file\n",
    "                file.write(\" \".join(map(str, step_data)) + \"\\n\")"
   ]
  }
 ],
 "metadata": {
  "kernelspec": {
   "display_name": "new_transformers",
   "language": "python",
   "name": "python3"
  },
  "language_info": {
   "codemirror_mode": {
    "name": "ipython",
    "version": 3
   },
   "file_extension": ".py",
   "mimetype": "text/x-python",
   "name": "python",
   "nbconvert_exporter": "python",
   "pygments_lexer": "ipython3",
   "version": "3.8.18"
  }
 },
 "nbformat": 4,
 "nbformat_minor": 2
}
